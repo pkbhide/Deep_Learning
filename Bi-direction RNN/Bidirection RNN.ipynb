{
 "cells": [
  {
   "cell_type": "raw",
   "id": "742c3574",
   "metadata": {},
   "source": [
    "What is a Bidirectional RNN?\n",
    "A Bidirectional RNN is a type of Recurrent Neural Network (RNN) that learns information from both the past and the future of a sequence.\n",
    "\n",
    "Instead of processing the input sequence in just one direction (like standard RNNs), a bidirectional RNN consists of two RNNs:\n",
    "\n",
    "One processes the sequence forward (left to right)\n",
    "\n",
    "One processes the sequence backward (right to left)\n",
    "\n",
    "The outputs of both directions are typically concatenated or summed to produce a final representation.\n",
    "\n",
    "\n",
    "🚀 When Should You Use a Bidirectional RNN?\n",
    "You should use a Bidirectional RNN when the context from both past and future is useful to understand the current word or token in a sequence.\n",
    "\n",
    "✅ Typical Use Cases:\n",
    "Use Case\tWhy Bidirectional Helps\n",
    "Named Entity Recognition (NER)\tTo identify a person's name, you might need both what comes before and after the word\n",
    "Part-of-Speech Tagging\tA word's role depends on its surrounding context (e.g., \"bear\" in \"bear fruit\" vs. \"bear attack\")\n",
    "Speech Recognition\tThe pronunciation of a phoneme might depend on surrounding phonemes\n",
    "Text Classification (in some cases)\tUnderstanding the full meaning of a sentence sometimes requires both directions\n",
    "Machine Translation (Encoder side)\tEncoding a sentence in both directions gives a fuller representation before translation\n",
    "\n",
    "❌ When Not to Use It?\n",
    "Real-time applications (e.g., live speech recognition or time series forecasting)\n",
    "Because bidirectional models require access to future context, they aren’t suitable for online or real-time systems where future inputs are not available.\n",
    "\n",
    "🔁 Summary:\n",
    "Feature\tBidirectional RNN\tStandard RNN\n",
    "Context\tPast + Future\tPast only\n",
    "Accuracy\tOften higher\tLower for certain NLP tasks\n",
    "Latency\tHigher (can’t stream)\tLower (streaming possible)\n",
    "Use Case\tNER, POS tagging, sentiment analysis\tTime series forecasting, real-time prediction"
   ]
  },
  {
   "cell_type": "code",
   "execution_count": 1,
   "id": "6a5c4dbe",
   "metadata": {},
   "outputs": [
    {
     "name": "stdout",
     "output_type": "stream",
     "text": [
      "Model: \"sequential\"\n",
      "_________________________________________________________________\n",
      " Layer (type)                Output Shape              Param #   \n",
      "=================================================================\n",
      " embedding (Embedding)       (None, 10, 64)            64000     \n",
      "                                                                 \n",
      " bidirectional (Bidirection  (None, 64)                24832     \n",
      " al)                                                             \n",
      "                                                                 \n",
      " dense (Dense)               (None, 1)                 65        \n",
      "                                                                 \n",
      "=================================================================\n",
      "Total params: 88897 (347.25 KB)\n",
      "Trainable params: 88897 (347.25 KB)\n",
      "Non-trainable params: 0 (0.00 Byte)\n",
      "_________________________________________________________________\n",
      "Epoch 1/3\n",
      "7/7 [==============================] - 1s 4ms/step - loss: 0.6946 - accuracy: 0.4700\n",
      "Epoch 2/3\n",
      "7/7 [==============================] - 0s 2ms/step - loss: 0.6821 - accuracy: 0.7200\n",
      "Epoch 3/3\n",
      "7/7 [==============================] - 0s 2ms/step - loss: 0.6677 - accuracy: 1.0000\n"
     ]
    },
    {
     "data": {
      "text/plain": [
       "<keras.src.callbacks.History at 0x337893460>"
      ]
     },
     "execution_count": 1,
     "metadata": {},
     "output_type": "execute_result"
    }
   ],
   "source": [
    "import numpy as np\n",
    "from tensorflow.keras.models import Sequential\n",
    "from tensorflow.keras.layers import Embedding, Bidirectional, LSTM, Dense\n",
    "\n",
    "# Sample data (e.g., 100 sequences, each of length 10, with word indices between 1 and 1000)\n",
    "X = np.random.randint(1, 1000, (100, 10))  # 100 samples, sequence length 10\n",
    "y = np.random.randint(0, 2, 100)           # Binary labels (0 or 1)\n",
    "\n",
    "# Parameters\n",
    "vocab_size = 1000\n",
    "embedding_dim = 64\n",
    "sequence_length = 10\n",
    "\n",
    "# Build the model\n",
    "model = Sequential([\n",
    "    Embedding(input_dim=vocab_size, output_dim=embedding_dim, input_length=sequence_length),\n",
    "    Bidirectional(LSTM(32)),  # Bi-directional LSTM\n",
    "    Dense(1, activation='sigmoid')  # Output layer for binary classification\n",
    "])\n",
    "\n",
    "# Compile and train the model\n",
    "model.compile(optimizer='adam', loss='binary_crossentropy', metrics=['accuracy'])\n",
    "model.summary()\n",
    "\n",
    "# Train (on dummy data)\n",
    "model.fit(X, y, epochs=3, batch_size=16)\n"
   ]
  },
  {
   "cell_type": "code",
   "execution_count": null,
   "id": "0631d2aa",
   "metadata": {},
   "outputs": [],
   "source": []
  }
 ],
 "metadata": {
  "kernelspec": {
   "display_name": "Python 3 (ipykernel)",
   "language": "python",
   "name": "python3"
  },
  "language_info": {
   "codemirror_mode": {
    "name": "ipython",
    "version": 3
   },
   "file_extension": ".py",
   "mimetype": "text/x-python",
   "name": "python",
   "nbconvert_exporter": "python",
   "pygments_lexer": "ipython3",
   "version": "3.9.6"
  }
 },
 "nbformat": 4,
 "nbformat_minor": 5
}
